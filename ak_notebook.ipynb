{
 "cells": [
  {
   "cell_type": "markdown",
   "metadata": {},
   "source": [
    "# **EDF PROJECT**\n",
    "\n",
    "This is our report for the EDF Project. The team is composed of four members:\n",
    "*   Hugo Tran\n",
    "*   Akira Kuroda\n",
    "*   Tianhe Li\n",
    "*   Etienne Guegan\n",
    "\n",
    "\n",
    "\n"
   ]
  },
  {
   "cell_type": "markdown",
   "metadata": {},
   "source": [
    "Before getting into the core of the project, we need to import the following libraries"
   ]
  },
  {
   "cell_type": "code",
   "execution_count": null,
   "metadata": {},
   "outputs": [],
   "source": []
  },
  {
   "cell_type": "markdown",
   "metadata": {},
   "source": [
    "### **Description of approach and the models used**\n",
    "\n",
    "We observed that the data given of cell C and D contains the total time, current, voltage and step. We decided to plot the current, voltage and step in function of the time elapsed.\n",
    "\n",
    "We made a function ```plot_test(cell, test)``` that takes two arguments (both in ```String```). Here is the plot of cell D with test 9:"
   ]
  },
  {
   "cell_type": "code",
   "execution_count": 2,
   "metadata": {},
   "outputs": [
    {
     "ename": "NameError",
     "evalue": "name 'pt' is not defined",
     "output_type": "error",
     "traceback": [
      "\u001b[1;31m---------------------------------------------------------------------------\u001b[0m",
      "\u001b[1;31mNameError\u001b[0m                                 Traceback (most recent call last)",
      "Cell \u001b[1;32mIn[2], line 1\u001b[0m\n\u001b[1;32m----> 1\u001b[0m \u001b[43mpt\u001b[49m\u001b[38;5;241m.\u001b[39mplot_test(\u001b[38;5;124m\"\u001b[39m\u001b[38;5;124mD\u001b[39m\u001b[38;5;124m\"\u001b[39m, \u001b[38;5;124m\"\u001b[39m\u001b[38;5;124m09\u001b[39m\u001b[38;5;124m\"\u001b[39m)\n",
      "\u001b[1;31mNameError\u001b[0m: name 'pt' is not defined"
     ]
    }
   ],
   "source": [
    "pt.plot_test(\"D\", \"09\")\n"
   ]
  },
  {
   "cell_type": "markdown",
   "metadata": {},
   "source": [
    "We get the following result:\n",
    "\n",
    "<div align = \"center\">\n",
    "    <img src = \"img/data_cell_d_test_09.png\" alt = \"Data plot of Test 9 of Cell D in function of the total time\" width = \"900\"/>\n",
    "</div>\n",
    "\n",
    "Our goal is to build an electrical model of the cell based on ECM that is a function of the SoC and SoH. So it translates to finding the output voltage $U_L$ of the battery in function of the SoC.\n",
    "During the first week of the project, we used the Rint Model of the battery (0th order model). \n",
    "<div align = \"center\">\n",
    "<img src = \"img/rint_model.png\" alt = \"Rint Model circit\" width = \"500\"/>\n",
    "</div>\n",
    "\n",
    "Its equation of $U_L$ is:\n",
    "\n",
    "\\begin{equation}\n",
    "\\tag{1}\n",
    "U_L = U_{OC} + U_0\n",
    "\\implies U_L = U_{OC} + I_L \\cdot R_{0}\n",
    "\\end{equation}\n",
    "\n",
    "\n",
    "It is a simple approach get the output voltage, since we just need to calculate the $U_{OC}$ and the internal resistance $R_0$."
   ]
  },
  {
   "cell_type": "markdown",
   "metadata": {},
   "source": [
    "#### Finding $U_{OC}$\n",
    "\n",
    "From the resource given, $U_{OC}$, or Open Circuit Voltage, is found when the battery has been at rest for a long enough time (1 or 2 hours). \n",
    "This translates graphically to finding the voltage of the battery when its current is equal to ```0 Amps```. For instance for cell D test 9, the circled portions of the graphs correspond to its OCV.\n",
    "\n",
    "<div align = \"center\">\n",
    "<img src = \"img/finding_ocv.png\" alt = \"Finding OCV\" width = \"700\"/>\n",
    "</div>\n",
    "\n",
    "Below is the code of the dataframe of cell D on test 9, where we keep the values such that its current is equal to ```0 Amps```.\n"
   ]
  },
  {
   "cell_type": "code",
   "execution_count": 4,
   "metadata": {},
   "outputs": [
    {
     "ename": "NameError",
     "evalue": "name 'dt' is not defined",
     "output_type": "error",
     "traceback": [
      "\u001b[1;31m---------------------------------------------------------------------------\u001b[0m",
      "\u001b[1;31mNameError\u001b[0m                                 Traceback (most recent call last)",
      "Cell \u001b[1;32mIn[4], line 1\u001b[0m\n\u001b[1;32m----> 1\u001b[0m \u001b[38;5;28mprint\u001b[39m(\u001b[43mdt\u001b[49m\u001b[38;5;241m.\u001b[39mfind_OCV(\u001b[38;5;124m\"\u001b[39m\u001b[38;5;124mD\u001b[39m\u001b[38;5;124m\"\u001b[39m, \u001b[38;5;124m\"\u001b[39m\u001b[38;5;124m09\u001b[39m\u001b[38;5;124m\"\u001b[39m)) \u001b[38;5;66;03m# Dataframe with OCV extracted\u001b[39;00m\n\u001b[0;32m      3\u001b[0m \u001b[38;5;28mprint\u001b[39m(dt\u001b[38;5;241m.\u001b[39msoc_ocv(\u001b[38;5;124m\"\u001b[39m\u001b[38;5;124mD\u001b[39m\u001b[38;5;124m\"\u001b[39m, \u001b[38;5;124m\"\u001b[39m\u001b[38;5;124m09\u001b[39m\u001b[38;5;124m\"\u001b[39m)) \u001b[38;5;66;03m# Dataframe with OCV extracted, and SoC calculated\u001b[39;00m\n",
      "\u001b[1;31mNameError\u001b[0m: name 'dt' is not defined"
     ]
    }
   ],
   "source": [
    "print(dt.find_OCV(\"D\", \"09\")) # Dataframe with OCV extracted\n",
    "\n",
    "print(dt.soc_ocv(\"D\", \"09\")) # Dataframe with OCV extracted, and SoC calculated\n"
   ]
  },
  {
   "cell_type": "markdown",
   "metadata": {},
   "source": [
    "However, since we can only measure the voltage after a pulse, we only get a sample of the OCV. So we can only establish a discrete relationship between the OCV and the SoC. \n",
    "\n",
    "To get its continuous version, we apply curve fitting thanks to the ```np.polyfit``` function.\n",
    "We therefore have the following code:"
   ]
  },
  {
   "cell_type": "code",
   "execution_count": null,
   "metadata": {},
   "outputs": [],
   "source": [
    "soc = soc_ocv(cell, test)[\"SoC\"] # Extract the OCV from the dataframe\n",
    "ocv = soc_ocv(cell, test)[\"OCV\"] # Extract the SoC from the dataframe\n",
    "\n",
    "# Fit a polynomial of degree 5\n",
    "coefficients = np.polyfit(soc, ocv, 5) # Curve fitting the SoC in function of the OCV by a 5th degree polynomial \n",
    "polynomial = np.poly1d(coefficients) # Store the coefficients in the polynomial\n",
    "\n",
    "# Thus, given an OCV, we can find the SoC by executing: polynomial(OCV)\n"
   ]
  },
  {
   "cell_type": "markdown",
   "metadata": {},
   "source": [
    "So we finally get $U_{OC}$ in function of the SoC."
   ]
  },
  {
   "cell_type": "markdown",
   "metadata": {},
   "source": [
    "#### Finding $R_0$\n",
    "\n",
    "From the Rint Model, we observe that: $U_L = U_{OC} + U_0 \\implies U_L - U_{OC} = U_0$\n",
    "\n",
    "$U_L$ is given, while $U_{OC}$ was calculated. We know that $U_0 = I_L \\cdot R_0 \\implies R_0 = \\frac{U_0}{I_L} \\implies R_0 = \\frac{U_L - U_{OC}}{I_L}$. \n",
    "\n",
    "The following code adds $R_0$ to the dataframe of cell D on test 9:"
   ]
  },
  {
   "cell_type": "code",
   "execution_count": null,
   "metadata": {},
   "outputs": [],
   "source": [
    "add_R0(\"D\", \"09\")\n"
   ]
  },
  {
   "cell_type": "markdown",
   "metadata": {},
   "source": [
    "### **SoH plot of both cells**\n",
    "\n",
    "The State of Health (SoH) of batterries correspond to the ratio of the remaining capacity at a given time to the initial capacity. In other words, it shows how much capacity the battery has lost due to ageing. The SoH is expressed in percentage by the following equation:\n",
    "\n",
    "\\begin{equation}\n",
    "\\tag{2}\n",
    "SoH [\\%] = \\frac{Q_{remaining}}{Q_{initial}}\n",
    "\\end{equation}\n",
    "\n",
    "We decided to plot the SoH of cells C and D in function of their test value. Cell C has 23 tests, while cell D has 13. Test 00 is be the start of the experiment, meaning that the batteries are new in this test.\n",
    "\n",
    "\n",
    "The following function ```plot_soh(cell)``` from the ```plot``` file takes ```\"C\"``` or ```\"D\"``` as argument. We plot the SoH of cell C:"
   ]
  },
  {
   "cell_type": "code",
   "execution_count": 9,
   "metadata": {},
   "outputs": [
    {
     "ename": "NameError",
     "evalue": "name 'pt' is not defined",
     "output_type": "error",
     "traceback": [
      "\u001b[1;31m---------------------------------------------------------------------------\u001b[0m",
      "\u001b[1;31mNameError\u001b[0m                                 Traceback (most recent call last)",
      "Cell \u001b[1;32mIn[9], line 1\u001b[0m\n\u001b[1;32m----> 1\u001b[0m \u001b[43mpt\u001b[49m\u001b[38;5;241m.\u001b[39mplot_soh(\u001b[38;5;124m\"\u001b[39m\u001b[38;5;124mC\u001b[39m\u001b[38;5;124m\"\u001b[39m)\n",
      "\u001b[1;31mNameError\u001b[0m: name 'pt' is not defined"
     ]
    }
   ],
   "source": [
    "pt.plot_soh(\"C\")\n"
   ]
  },
  {
   "cell_type": "markdown",
   "metadata": {},
   "source": [
    "We get the following images:\n",
    "\n",
    "<div align = \"center\">\n",
    "    <img src = \"img/soh_c.png\" alt = \"Image of SoH of Cell C in function of the tests\" width = \"575\"/>\n",
    "    <img src = \"img/soh_d.png\" alt = \"Image of SoH of Cell D in function of the tests\" width = \"575\"/>\n",
    "</div>\n"
   ]
  }
 ],
 "metadata": {
  "kernelspec": {
   "display_name": "Python 3",
   "language": "python",
   "name": "python3"
  },
  "language_info": {
   "codemirror_mode": {
    "name": "ipython",
    "version": 3
   },
   "file_extension": ".py",
   "mimetype": "text/x-python",
   "name": "python",
   "nbconvert_exporter": "python",
   "pygments_lexer": "ipython3",
   "version": "3.10.6"
  }
 },
 "nbformat": 4,
 "nbformat_minor": 2
}
