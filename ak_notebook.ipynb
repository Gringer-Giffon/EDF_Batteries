{
 "cells": [
  {
   "cell_type": "markdown",
   "metadata": {},
   "source": [
    "# **EDF PROJECT**\n",
    "\n",
    "This is our report for the EDF Project. The team is composed of four members:\n",
    "*   Hugo Tran\n",
    "*   Akira Kuroda\n",
    "*   Tianhe Li\n",
    "*   Etienne Guegan\n",
    "\n",
    "\n",
    "\n"
   ]
  },
  {
   "cell_type": "markdown",
   "metadata": {},
   "source": [
    "Before getting into the core of the project, we need to import the following libraries"
   ]
  },
  {
   "cell_type": "markdown",
   "metadata": {},
   "source": [
    "### **Plot of SOH of both cells**\n",
    "\n",
    "The State of Health (SoH) of batterries correspond to the ratio of the remaining capacity at a given time to the initial capacity. In other words, it shows how much capacity the battery has lost due to ageing. The SoH is expressed in percentage by the following equation:\n",
    "\n",
    "\\begin{equation}\n",
    "SoH [\\%] = \\frac{Q_{remaining}}{Q_{initial}}\n",
    "\\end{equation}\n",
    "\n",
    "We decided to plot the SoH of cells C and D in function of their test value. Cell C has 23 tests, while cell D has 13. Test 00 is be the start of the experiment, meaning that the batteries are new in this test.\n",
    "\n",
    "\n",
    "The following function ```plot_soh``` from the ```plot``` file takes ```\"C\"``` or ```\"D\"``` as argument. We plot the SoH of cell C:"
   ]
  },
  {
   "cell_type": "code",
   "execution_count": 5,
   "metadata": {},
   "outputs": [
    {
     "ename": "NameError",
     "evalue": "name 'pt' is not defined",
     "output_type": "error",
     "traceback": [
      "\u001b[1;31m---------------------------------------------------------------------------\u001b[0m",
      "\u001b[1;31mNameError\u001b[0m                                 Traceback (most recent call last)",
      "Cell \u001b[1;32mIn[5], line 1\u001b[0m\n\u001b[1;32m----> 1\u001b[0m \u001b[43mpt\u001b[49m\u001b[38;5;241m.\u001b[39mplot_soh(\u001b[38;5;124m\"\u001b[39m\u001b[38;5;124mC\u001b[39m\u001b[38;5;124m\"\u001b[39m)\n",
      "\u001b[1;31mNameError\u001b[0m: name 'pt' is not defined"
     ]
    }
   ],
   "source": [
    "pt.plot_soh(\"C\")\n"
   ]
  },
  {
   "cell_type": "markdown",
   "metadata": {},
   "source": [
    "We get the following images:\n",
    "\n",
    "\n",
    "![SoH of cell C:](img/soh_c.png)\n",
    "\n",
    "![SoH of cell D:](img/soh_d.png)\n"
   ]
  }
 ],
 "metadata": {
  "kernelspec": {
   "display_name": "venv",
   "language": "python",
   "name": "python3"
  },
  "language_info": {
   "codemirror_mode": {
    "name": "ipython",
    "version": 3
   },
   "file_extension": ".py",
   "mimetype": "text/x-python",
   "name": "python",
   "nbconvert_exporter": "python",
   "pygments_lexer": "ipython3",
   "version": "3.10.6"
  }
 },
 "nbformat": 4,
 "nbformat_minor": 2
}
