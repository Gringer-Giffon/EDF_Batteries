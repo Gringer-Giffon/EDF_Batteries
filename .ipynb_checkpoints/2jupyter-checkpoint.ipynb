{
 "cells": [
  {
   "cell_type": "markdown",
   "id": "5b9eacb6-e35e-4f05-a56c-50629753455a",
   "metadata": {},
   "source": [
    "# **📌 Battery Modelling - EDF R&D 2025**\n",
    "### **🔋 Project Overview**\n",
    "##### - **Team Members:** Hugo Tran, Etienne Guegan, Akira Kuroda, Tianhe Li\n",
    "##### - **Goal:** Analyze battery ageing and impedance increase over cycles.  \n",
    "##### - **Data:** Battery cell voltage, current, and test cycles.  \n",
    "\n",
    "### **📊 Key Analysis Steps:**\n",
    "##### - Load battery test data 📂\n",
    "##### - Compute Capacity (Ah), SoC (%), SoH (%)\n",
    "##### - Fit **OCV** vs. **SoC** Curve 📈\n",
    "##### - Visualize degradation trends 🛠️\n",
    "\n",
    "### **🔎 Context**\n",
    "This project focuses on simulating and analyzing battery behavior under various conditions using different modeling approaches. It includes implementations for calculating State of Charge (SoC) and State of Health (SoH), along with zero-order and first-order RC (Resistor-Capacitor) equivalent circuit models to better understand battery dynamics."
   ]
  },
  {
   "cell_type": "markdown",
   "id": "d2d1de8b-69dd-405c-ab17-65abd683a506",
   "metadata": {},
   "source": [
    "### How to Run the Code"
   ]
  },
  {
   "cell_type": "markdown",
   "id": "62aad3c2-4728-4374-8318-38fb2dd194ba",
   "metadata": {},
   "source": [
    "#### 1. Import the dataset"
   ]
  },
  {
   "cell_type": "code",
   "execution_count": 6,
   "id": "1b5e184d-4a01-40a5-b4fe-97c6efd2b885",
   "metadata": {},
   "outputs": [],
   "source": [
    "import data as dt\n",
    "import plot as pt"
   ]
  },
  {
   "cell_type": "markdown",
   "id": "3e850f32-3cb5-4190-b1d4-30054ed27fb0",
   "metadata": {},
   "source": [
    "#### 2. Import the necessary libraries"
   ]
  },
  {
   "cell_type": "code",
   "execution_count": 7,
   "id": "aea37f51-e368-4b1c-bc59-faadcefac8dd",
   "metadata": {},
   "outputs": [],
   "source": [
    "import pandas as pd\n",
    "import numpy as np\n",
    "import matplotlib.pyplot as plt\n",
    "import os\n",
    "from scipy.integrate import cumulative_trapezoid"
   ]
  },
  {
   "cell_type": "markdown",
   "id": "36efef43-ab53-47b5-af4f-9e5028382962",
   "metadata": {},
   "source": [
    "### <ins>File Structure</ins>"
   ]
  },
  {
   "cell_type": "markdown",
   "id": "dcdaaba4-ae94-402c-947a-a9746596ab83",
   "metadata": {},
   "source": [
    "Our code is organized in multiple parts, regrouped in diverse files. \\\n",
    "Firstly, the file ***data.py*** regroups all the data initialization the models need to be generated.\n",
    "Secondly, the file ***plot.py*** regroups all plotting function we have elaborated.\n",
    "Finally, the ***main.py*** file is runs all the important functions in order to model the cell we'd like to analyze.\n"
   ]
  },
  {
   "cell_type": "markdown",
   "id": "1d914cc2-dc6e-4682-9b0d-f18e5aa04e28",
   "metadata": {},
   "source": [
    "---\n",
    "## **Description of approach and the models used**\n",
    "\n",
    "We observed that the data given of cell C and D contains the total time, current, voltage and step. We decided to plot the current, voltage and step in function of the time elapsed.\n",
    "\n",
    "We made a function ```plot_test(cell, test)``` that takes two arguments (both in ```String```). Here is the plot of cell D with test 9:"
   ]
  },
  {
   "cell_type": "code",
   "execution_count": null,
   "id": "5c6bdccd-3b06-4f97-afd9-819aacb195ec",
   "metadata": {},
   "outputs": [],
   "source": [
    "pt.plot_test(\"D\", \"09\")"
   ]
  },
  {
   "cell_type": "markdown",
   "id": "d10b41ba-510d-4af5-bb0f-74ef4026590d",
   "metadata": {},
   "source": [
    "We get the following result:\n",
    "\n",
    "<div align = \"center\">\n",
    "    <img src = \"img/data_cell_d_test_09.png\" alt = \"Data plot of Test 9 of Cell D in function of the total time\" width = \"900\"/>\n",
    "</div>\n",
    "\n",
    "As stated above, our goal is to build an electrical model of the cell based on ECM that is a function of the SoC and SoH. So it translates to finding the output voltage $U_L$ of the battery.\n",
    "During the first week of the project, we used the Rint Model of the battery (0th order model). \n",
    "<div align = \"center\">\n",
    "<img src = \"img/rint_model.png\" alt = \"Rint Model circit\" width = \"500\"/>\n",
    "</div>\n",
    "\n",
    "Its equation of $U_L$ is:\n",
    "\n",
    "\\begin{equation}\n",
    "\\tag{1}\n",
    "U_L = U_{OC} + U_0\n",
    "\\implies U_L = U_{OC} + I_L \\cdot R_{0}\n",
    "\\end{equation}\n",
    "\n",
    "\n",
    "It is a simple approach to get the output voltage, since we just need to calculate the $U_{OC}$ and the internal resistance $R_0$."
   ]
  },
  {
   "cell_type": "markdown",
   "id": "3fdc4a54-59e7-4da8-baf5-1f047a122288",
   "metadata": {},
   "source": [
    "##Inpput RO and Uo akira "
   ]
  },
  {
   "cell_type": "markdown",
   "id": "daa4bf6e-8cc6-4467-998f-c0b6799de614",
   "metadata": {},
   "source": [
    "---\n",
    "## **The Capacity of a cell** "
   ]
  },
  {
   "cell_type": "markdown",
   "id": "23fece06-cde8-4145-92cb-a969c5c33e9d",
   "metadata": {},
   "source": [
    "### <ins>Capacity Definition</ins>\n",
    "The **capacity** of a battery, measured in **Ampere-hours (Ah)**, represents the total charge it can store and deliver.  \n",
    "With ageing, the available capacity decreases, meaning an older battery holds less charge than a new one.\n",
    "\n",
    "The capacity during a **full discharge** cycle is calculated as the integral of the **current** over time:\n",
    "\n",
    "$$\n",
    "Q_{\\text{remaining}} = \\int I(t) \\, dt\n",
    "$$\n",
    "\n",
    "where:\n",
    "- ***Q_remaining*** is the remaining charge in **Ah**,\\\n",
    "- ***I(t)*** is the discharge current at time \\( t \\)."
   ]
  },
  {
   "cell_type": "markdown",
   "id": "79e64b91-9579-4f28-9bfb-e5ad48dc7ba1",
   "metadata": {},
   "source": [
    "## **State of Charge** (SoC)"
   ]
  },
  {
   "cell_type": "markdown",
   "id": "0a0b0b36-e247-45c5-9c04-a73e48a7b228",
   "metadata": {},
   "source": [
    "### <ins>Definition</ins>\n",
    "The **State of Charge (SoC)** of a battery, expressed as a **percentage (%),** represents the available charge relative to its remaining capacity.\n",
    "As a battery discharges, its **SoC decreases**, indicating how much charge is left compared to its *initial* full capacity.\n",
    "\n",
    "The SoC at a given time is calculated as the ratio of the available charge to the remaining capacity:\n",
    "\n",
    "$$\n",
    "\\text{SoC}(t) = \\frac{Q_{\\text{available(t)}}}{Q_{\\text{remaining}}} \\times 100\n",
    "$$\n",
    "\n",
    "where:  \n",
    "- ***SoC(t)*** is the **State of Charge** at time \\( t \\) in **%**,  \n",
    "- ***Q_available*** is the available charge in **Ah** of the remaining total,  \n",
    "- ***Q_remaining*** is the remaining (rated) capacity of the battery in **Ah**."
   ]
  },
  {
   "cell_type": "markdown",
   "id": "fd6bdefa-3087-4d9c-9333-2bda65541e20",
   "metadata": {},
   "source": [
    " In our SoC calculations, we integrated the current displayed during the tests provided in order to get the *Q_remaining*. We then established boundaries for our SoC reaching 100% at its maximum and 0% at its minimum as the full discharge is done. \\\n",
    " Assuming an initial full charge at \\( t = 0 \\):\n",
    "\n",
    "$$\n",
    "\\text{SoC}(t) = \\text{SoC}_{\\text{initial}} - \\frac{1}{Q_{\\text{remaining}}} \\int_0^t I(\\tau) \\, d\\tau\n",
    "$$\n",
    "\n",
    "where:\n",
    "\n",
    "- ***Q_initial*** is the initial State of Charge (usually 100%),  \n",
    "- ***I(t)*** is the discharge current at time \\( t \\)."
   ]
  },
  {
   "cell_type": "markdown",
   "id": "a7c8b165-288e-4438-b9f4-364e93c69aab",
   "metadata": {},
   "source": [
    "### <ins>Plotting the SoC</ins>\n",
    "In order to illustrate the plot of the **State of Charge (SoC)** of a given cell, the following function ```plot_soc``` calls our SoC plot function which takes as arguments the specific cell and test wanted:"
   ]
  },
  {
   "cell_type": "code",
   "execution_count": 4,
   "id": "eea42dad-5b2c-4ab3-968c-11c7f762fb77",
   "metadata": {},
   "outputs": [
    {
     "name": "stdout",
     "output_type": "stream",
     "text": [
      "Cycle 00 :  15.997468754943839 6320.0 \n",
      "\n"
     ]
    },
    {
     "data": {
      "image/png": "[encoded data removed]",
      "text/plain": [
       "<Figure size 640x480 with 1 Axes>"
      ]
     },
     "metadata": {},
     "output_type": "display_data"
    }
   ],
   "source": [
    "from plot import *\n",
    "\n",
    "pt.plot_soc(\"C\",\"00\")"
   ]
  },
  {
   "cell_type": "markdown",
   "id": "4a93fb9a-49da-4c8a-a285-cad7286f5d44",
   "metadata": {},
   "source": [
    "#### ***Analysis***\n",
    "\n",
    "The **State of Charge (SoC) vs. Time graph** shows the charge and discharge behaviour of the ***cell \"C\"*** over the **test cycle \"00\"**. Initially, the SoC starts at a **low percentage** and gradually increases as the battery is charged. The overall pattern represents a controlled experimental setup designed to assess the battery’s response to repeated charge and discharge cycles. \n",
    "\n",
    "Once it reaches 100%, the battery undergoes a **series** of **charge and discharge cycles** before eventually reaching a full discharge at the end of the test. \n",
    "\n",
    "In the middle of the graph, we observe pulsed discharges, where the **SoC drops sharply** after reaching full charge. This pattern repeats, indicating that the battery is undergoing controlled pulse discharges. Such behaviour is common in battery characterization tests, particularly pulse current tests, which evaluate battery performance under **dynamic** conditions. These tests help assess **capacity retention**, **efficiency**, and the effects of **cycling** on battery health. \n",
    "\n",
    "At the end of the test, the SoC fully discharges to 0% and remains there, suggesting a **complete depletion** of the battery. This final discharge is the way we measure the battery’s total usable energy before recharge. "
   ]
  },
  {
   "cell_type": "markdown",
   "id": "c1eb619e-24ee-418d-9084-27d661cb15e2",
   "metadata": {},
   "source": [
    "---\n",
    "## **State of Health** (SoH)\n",
    "\n",
    "The State of Health (SoH) of batterries correspond to the ratio of the remaining capacity at a given time to the initial capacity. In other words, it shows how much capacity the battery has lost due to ageing. The SoH is expressed in percentage by the following equation:\n",
    "\n",
    "\\begin{equation}\n",
    "\\tag{2}\n",
    "SoH [\\%] = \\frac{Q_{remaining}}{Q_{initial}}\n",
    "\\end{equation}\n",
    "\n",
    "We decided to plot the SoH of cells C and D in function of their test value. Cell C has 23 tests, while cell D has 13. Test 00 is be the start of the experiment, meaning that the batteries are new in this test.\n",
    "\n",
    "\n",
    "The following function ```plot_soh(cell)``` from the ```plot``` file takes ```\"C\"``` or ```\"D\"``` as argument. We plot the SoH of cell C:"
   ]
  },
  {
   "cell_type": "code",
   "execution_count": null,
   "id": "1b2ae368-d9c4-45ae-95ca-fd0585eade5e",
   "metadata": {},
   "outputs": [],
   "source": [
    "pt.plot_soh(\"C\")"
   ]
  },
  {
   "cell_type": "markdown",
   "id": "8696fa7b-71d4-45fc-898e-0e3fc2bfcefa",
   "metadata": {},
   "source": [
    "We get the following images:\n",
    "\n",
    "<div align = \"center\">\n",
    "    <img src = \"img/soh_c.png\" alt = \"Image of SoH of Cell C in function of the tests\" width = \"575\"/>\n",
    "    <img src = \"img/soh_d.png\" alt = \"Image of SoH of Cell D in function of the tests\" width = \"575\"/>\n",
    "</div>\n"
   ]
  },
  {
   "cell_type": "markdown",
   "id": "08b9200b-40e4-4911-972e-36ef9f307bda",
   "metadata": {},
   "source": [
    "## **Analysis of the State of Health (SoH) and Ageing Dynamics**\n",
    "\n",
    "#### **General Decline Analysis of SoH for Cells C and D**\n",
    "\n",
    "The SoH charts for Cells C and D display **agreeable degradation**, this behaviour is in alignment with lithium-ion battery nature. Under long-term testing, various chemical and structural ageing processes affect the cell's performance. \n",
    "\n",
    "Ageing of a cell is affected by various factors, including the accumulation of the **Solid Electrolyte Interphase (SEI)** layer, lithium corrosion, and the loss of active material on the Cathode and Anodes of a cell. The SEI sheet serves a pivotal role by streamlining lithium-ion (Li+) exchange between electrodes. It also intercepts electrons to prevent excessive electrolyte decay, and by doing so preserves the battery's chemical composition. As this SEI layer grows over time, it increases internal resistance and reduces battery efficiency.\n",
    "\n",
    "As time goes on and the cell is used more and more, additional degradation processes affect it. The apparition of damage to the electrodes structure, alongside electrolyte decomposition, also contribute to the reduction of cell capacity. \n",
    "\n",
    "---\n",
    "\n",
    "#### **Cell C (23 Test Intervals)**\n",
    "\n",
    "- **Initial Phase (Tests 0 to ~10):**  \n",
    "\n",
    "- **Middle Phase (~Test 10 to Test 14):**  \n",
    "\n",
    "- **Later Phase (~Test 14 to Test 23):**  \n",
    "\n",
    "---\n",
    "\n",
    "#### **Cell D (13 Test Intervals)**\n",
    "\n",
    "- **Initial Phase (Tests 0 to ~4):**  \n",
    "\n",
    "- **Middle Phase (~Test 4 to Test 8):**  \n",
    "\n",
    "- **Final Phase (~Test 9 to Test 13):**  \n",
    "\n",
    "---\n",
    "\n",
    "#### **Physical Interpretation of Degradation**\n",
    "\n",
    "The degradation pattern observed make total sense when referring to the physical and chemical reactions occurring within lithium-ion cells:\n",
    "\n",
    "1. **Early Phase (Stabilization):**  \n",
    "   During the initial usage period, the SEI layer forms, which is beneficial for stabilizing the battery chemistry. However, it gradually consumes lithium ions, leading to a minor capacity loss.\n",
    "\n",
    "2. **Middle Phase (Accelerated Ageing):**  \n",
    "   As the battery undergoes more charge/discharge cycles, SEI thickening increases internal resistance, reducing energy efficiency. Lithium plating and further chemical side reactions could explain the increased degradation of the capacity. If this indeed occurs, the impedance growth limits charge transport, which ultimately contributes to a steeper decline in SoH. Given that the graphs consistently display a decrease in the tangent of their SoC, we can assume that this degradation is occurring inside the cells, as more and more tests are done.\n",
    "\n",
    "3. **Last Phase (End-of-Life Characteristics):**  \n",
    "   Once again the tangent SoC line decreases even more, even more electrolyte decomposition and chemical damage to the electrodes can be supposed. The pronounced and more abrupt decreases recorded may hint at widespread interior changes, as all the previously listed affects worsen. We could interpret this as the indication of the cell’s approach of its end-of-life (EoL) stage, though this interpretation remains speculative.\n",
    "\n",
    "\n",
    "\n",
    "These complex ageing dynamics make it essential for Battery Management Systems (BMS) to accurately estimate SoH and manage battery usage efficiently. Accurate SoH estimation not only improves the charging/discharging process but also helps predict battery lifespan and optimize the operation of EVs and other energy storage systems.\n",
    "\n",
    "As batteries age, it is expected that their capacity degrades due to chemical and structural changes inside the cells, leading to a decline in SoH.\n",
    "\n",
    "--"
   ]
  },
  {
   "cell_type": "markdown",
   "id": "246cd17c-9f2e-44a1-8685-e9c7f8be00a9",
   "metadata": {},
   "source": [
    "## **EMC parameters as functions of SoC and SoH** "
   ]
  },
  {
   "cell_type": "code",
   "execution_count": null,
   "id": "0bcc7857-6aeb-4598-b1c9-df2580892677",
   "metadata": {},
   "outputs": [],
   "source": []
  }
 ],
 "metadata": {
  "kernelspec": {
   "display_name": "Python 3 (ipykernel)",
   "language": "python",
   "name": "python3"
  },
  "language_info": {
   "codemirror_mode": {
    "name": "ipython",
    "version": 3
   },
   "file_extension": ".py",
   "mimetype": "text/x-python",
   "name": "python",
   "nbconvert_exporter": "python",
   "pygments_lexer": "ipython3",
   "version": "3.9.6"
  }
 },
 "nbformat": 4,
 "nbformat_minor": 5
}
